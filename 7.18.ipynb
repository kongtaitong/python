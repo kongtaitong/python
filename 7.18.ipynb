{
 "cells": [
  {
   "cell_type": "markdown",
   "metadata": {},
   "source": [
    "# 选择\n",
    "## 布尔类型、数值和表达式\n",
    "![](../Photo/33.png)\n",
    "- 注意：比较运算符的相等是两个等号，一个等到代表赋值\n",
    "- 在Python中可以用整型0来代表False，其他数字来代表True\n",
    "- 后面还会讲到 is 在判断语句中的用发"
   ]
  },
  {
   "cell_type": "code",
   "execution_count": 1,
   "metadata": {},
   "outputs": [
    {
     "data": {
      "text/plain": [
       "True"
      ]
     },
     "execution_count": 1,
     "metadata": {},
     "output_type": "execute_result"
    }
   ],
   "source": [
    "1<=2<=3"
   ]
  },
  {
   "cell_type": "code",
   "execution_count": 2,
   "metadata": {},
   "outputs": [
    {
     "data": {
      "text/plain": [
       "True"
      ]
     },
     "execution_count": 2,
     "metadata": {},
     "output_type": "execute_result"
    }
   ],
   "source": [
    "bool(2)"
   ]
  },
  {
   "cell_type": "code",
   "execution_count": 1,
   "metadata": {},
   "outputs": [
    {
     "data": {
      "text/plain": [
       "False"
      ]
     },
     "execution_count": 1,
     "metadata": {},
     "output_type": "execute_result"
    }
   ],
   "source": [
    "a=True\n",
    "b=False\n",
    "a is b"
   ]
  },
  {
   "cell_type": "code",
   "execution_count": 2,
   "metadata": {},
   "outputs": [
    {
     "name": "stdout",
     "output_type": "stream",
     "text": [
      "8791321383744 8791321383744\n"
     ]
    },
    {
     "data": {
      "text/plain": [
       "False"
      ]
     },
     "execution_count": 2,
     "metadata": {},
     "output_type": "execute_result"
    }
   ],
   "source": [
    "a=id(1)\n",
    "b=id(1)\n",
    "#因为a与b不是同一个对象\n",
    "print(a,b)\n",
    "a is b"
   ]
  },
  {
   "cell_type": "markdown",
   "metadata": {},
   "source": [
    "## 字符串的比较使用ASCII值"
   ]
  },
  {
   "cell_type": "code",
   "execution_count": 3,
   "metadata": {},
   "outputs": [
    {
     "data": {
      "text/plain": [
       "False"
      ]
     },
     "execution_count": 3,
     "metadata": {},
     "output_type": "execute_result"
    }
   ],
   "source": [
    "a='joker'\n",
    "b='Joker'\n",
    "a<b"
   ]
  },
  {
   "cell_type": "code",
   "execution_count": 6,
   "metadata": {},
   "outputs": [
    {
     "data": {
      "text/plain": [
       "True"
      ]
     },
     "execution_count": 6,
     "metadata": {},
     "output_type": "execute_result"
    }
   ],
   "source": [
    "a='joker'\n",
    "b='jokar'\n",
    "a>b"
   ]
  },
  {
   "cell_type": "markdown",
   "metadata": {},
   "source": [
    "## Markdown \n",
    "- https://github.com/younghz/Markdown"
   ]
  },
  {
   "cell_type": "markdown",
   "metadata": {},
   "source": [
    "就点上面标记"
   ]
  },
  {
   "cell_type": "markdown",
   "metadata": {},
   "source": [
    "## EP:\n",
    "- <img src=\"../Photo/34.png\"></img>\n",
    "- 输入一个数字，判断其实奇数还是偶数"
   ]
  },
  {
   "cell_type": "code",
   "execution_count": 8,
   "metadata": {},
   "outputs": [],
   "source": [
    "i=int(True)"
   ]
  },
  {
   "cell_type": "code",
   "execution_count": 9,
   "metadata": {},
   "outputs": [],
   "source": [
    "j=int(False)"
   ]
  },
  {
   "cell_type": "markdown",
   "metadata": {},
   "source": [
    "## 产生随机数字\n",
    "- 函数random.randint(a,b) 可以用来产生一个a和b之间且包括a和b的随机整数"
   ]
  },
  {
   "cell_type": "markdown",
   "metadata": {},
   "source": [
    "产生一个随机数，你去输入，如果你输入的数大于随机数，那么就告诉你太大了，反之，太小了，\n",
    "然后你一直输入，知道它满意为止"
   ]
  },
  {
   "cell_type": "code",
   "execution_count": 10,
   "metadata": {},
   "outputs": [],
   "source": [
    "import random\n",
    "a=random.randint(0,10)"
   ]
  },
  {
   "cell_type": "code",
   "execution_count": 11,
   "metadata": {},
   "outputs": [
    {
     "name": "stdout",
     "output_type": "stream",
     "text": [
      "请输入一个数：5\n",
      "太大了\n"
     ]
    }
   ],
   "source": [
    "for i in range(5):\n",
    "    b=eval(input('请输入一个数：'))\n",
    "    if b>a:\n",
    "        print('太大了')\n",
    "    if b<a:\n",
    "        print('太小了')\n",
    "    if b==a:\n",
    "        print('正好')\n",
    "    break"
   ]
  },
  {
   "cell_type": "markdown",
   "metadata": {},
   "source": [
    "##  其他random方法\n",
    "- random.random 返回0.0到1.0之间前闭后开区间的随机浮点\n",
    "- random.randrange(a,b) 前闭后开"
   ]
  },
  {
   "cell_type": "markdown",
   "metadata": {},
   "source": [
    "## EP：\n",
    "- 产生两个随机整数number1和number2，然后显示给用户，使用户输入数字的和，并判定其是否正确\n",
    "- 进阶:写一个随机序号点名程序"
   ]
  },
  {
   "cell_type": "code",
   "execution_count": 31,
   "metadata": {},
   "outputs": [
    {
     "name": "stdout",
     "output_type": "stream",
     "text": [
      "输入数字之和：20\n",
      "false\n"
     ]
    }
   ],
   "source": [
    "num=eval(input('输入数字之和：'))\n",
    "number1=random.randrange(0,10)\n",
    "number2=random.randrange(0,10)\n",
    "if num==(number1+number2):\n",
    "    print('true')\n",
    "else:\n",
    "    print('false')"
   ]
  },
  {
   "cell_type": "markdown",
   "metadata": {},
   "source": [
    "## if语句\n",
    "- 如果条件正确就执行一个单向if语句，亦即当条件为真的时候才执行if内部的语句\n",
    "- Python有很多选择语句:\n",
    "> - 单向if \n",
    "  - 双向if-else\n",
    "  - 嵌套if\n",
    "  - 多向if-elif-else\n",
    "  \n",
    "- 注意：当语句含有子语句的时候，那么一定至少要有一个缩进，也就是说如果有儿子存在，那么一定要缩进\n",
    "- 切记不可tab键和space混用，单用tab 或者 space\n",
    "- 当你输出的结果是无论if是否为真时都需要显示时，语句应该与if对齐"
   ]
  },
  {
   "cell_type": "code",
   "execution_count": 44,
   "metadata": {},
   "outputs": [
    {
     "name": "stdout",
     "output_type": "stream",
     "text": [
      "输入一个姓名：hongzi\n",
      "年龄：25\n",
      "输入帅否：1\n",
      "有没有老婆：1\n",
      "下一题\n",
      "下一题\n",
      "回家的诱惑\n"
     ]
    }
   ],
   "source": [
    "name=input('输入一个姓名：')\n",
    "age=eval(input('年龄：'))\n",
    "shuai=eval(input('输入帅否[0/1]：'))\n",
    "laopo=eval(input('有没有老婆[0/1]：'))\n",
    "if age>=40:\n",
    "    print('拜拜')\n",
    "if age<40:\n",
    "    print('下一题')\n",
    "    if shuai==0:\n",
    "        print('考虑一下')\n",
    "    if shuai==1:\n",
    "        print('下一题')\n",
    "        if laopo==0:\n",
    "            print('拜拜')\n",
    "        if laopo==1:\n",
    "            print('回家的诱惑')"
   ]
  },
  {
   "cell_type": "code",
   "execution_count": null,
   "metadata": {},
   "outputs": [],
   "source": [
    "age=eval(input('年龄：'))\n",
    "if age=='y'\n",
    "    handsome=input('帅否[y/n]')\n",
    "    if handsome=='y':\n",
    "        wife=input('有没有老婆[y/n]')\n",
    "        if wife=='y':\n",
    "            print('回家的诱惑')\n",
    "    \n",
    "    print('下一题')\n",
    "    if shuai==0:\n",
    "        print('考虑一下')\n",
    "    if shuai==1:\n",
    "        print('下一题')\n",
    "        if laopo==0:\n",
    "            print('拜拜')\n",
    "        if laopo==1:\n",
    "            print('回家的诱惑')"
   ]
  },
  {
   "cell_type": "markdown",
   "metadata": {},
   "source": [
    "## EP：\n",
    "- 用户输入一个数字，判断其实奇数还是偶数\n",
    "- 进阶：可以查看下4.5实例研究猜生日"
   ]
  },
  {
   "cell_type": "markdown",
   "metadata": {},
   "source": [
    "## 双向if-else 语句\n",
    "- 如果条件为真，那么走if内部语句，否则走else内部语句"
   ]
  },
  {
   "cell_type": "markdown",
   "metadata": {},
   "source": [
    "## EP：\n",
    "- 产生两个随机整数number1和number2，然后显示给用户，使用户输入数字，并判定其是否正确,如果正确打印“you‘re correct”，否则打印正确错误"
   ]
  },
  {
   "cell_type": "markdown",
   "metadata": {},
   "source": [
    "## 嵌套if 和多向if-elif-else\n",
    "![](../Photo/35.png)"
   ]
  },
  {
   "cell_type": "code",
   "execution_count": 50,
   "metadata": {},
   "outputs": [
    {
     "name": "stdout",
     "output_type": "stream",
     "text": [
      "请输入一个年份：1998\n",
      "虎\n"
     ]
    }
   ],
   "source": [
    "year=eval(input('请输入一个年份：'))\n",
    "if year%12==0:\n",
    "    res='猴'\n",
    "elif year%12==1:\n",
    "    res='鸡'\n",
    "elif year%12==2:\n",
    "    res='狗'\n",
    "elif year%12==3:\n",
    "    res='猪'\n",
    "elif year%12==4:\n",
    "    res='鼠'\n",
    "elif year%12==5:\n",
    "    res='牛'\n",
    "elif year%12==6:\n",
    "    res='虎'\n",
    "elif year%12==7:\n",
    "    res='兔'\n",
    "elif year%12==8:\n",
    "    res='龙'\n",
    "elif year%12==9:\n",
    "    res='蛇'\n",
    "elif year%12==10:\n",
    "    res='马'\n",
    "elif year%12==11:\n",
    "    res='羊'\n",
    "print(res)"
   ]
  },
  {
   "cell_type": "markdown",
   "metadata": {},
   "source": [
    "## EP：\n",
    "- 提示用户输入一个年份，然后显示表示这一年的动物\n",
    "![](../Photo/36.png)\n",
    "- 计算身体质量指数的程序\n",
    "- BMI = 以千克为单位的体重除以以米为单位的身高的平方\n",
    "![](../Photo/37.png)"
   ]
  },
  {
   "cell_type": "code",
   "execution_count": 53,
   "metadata": {},
   "outputs": [
    {
     "name": "stdout",
     "output_type": "stream",
     "text": [
      "请输入体重[kg]：59\n",
      "请输入身高[m]：1.72\n",
      "标准\n"
     ]
    }
   ],
   "source": [
    "weight=eval(input('请输入体重[kg]：'))\n",
    "high=eval(input('请输入身高[m]：'))\n",
    "BMI=weight/(high*high)\n",
    "if BMI<18.5:\n",
    "    res='超轻'\n",
    "elif 18.5<=BMI<25.0:\n",
    "    res='标准'\n",
    "elif 25.0<=BMI<30.0:\n",
    "    res='超重'\n",
    "elif BMI>=30.05:\n",
    "    res='痴肥'\n",
    "print(res)"
   ]
  },
  {
   "cell_type": "markdown",
   "metadata": {},
   "source": [
    "## 逻辑运算符\n",
    "![](../Photo/38.png)"
   ]
  },
  {
   "cell_type": "markdown",
   "metadata": {},
   "source": [
    "![](../Photo/39.png)\n",
    "![](../Photo/40.png)"
   ]
  },
  {
   "cell_type": "markdown",
   "metadata": {},
   "source": [
    "## EP：\n",
    "- 判定闰年：一个年份如果能被4整除但不能被100整除，或者能被400整除，那么这个年份就是闰年\n",
    "- 提示用户输入一个年份，并返回是否是闰年\n",
    "- 提示用户输入一个数字，判断其是否为水仙花数"
   ]
  },
  {
   "cell_type": "code",
   "execution_count": 63,
   "metadata": {},
   "outputs": [
    {
     "name": "stdout",
     "output_type": "stream",
     "text": [
      "输入一个年份：2008\n",
      "闰年\n"
     ]
    }
   ],
   "source": [
    "year=eval(input('输入一个年份：'))\n",
    "if (year%4==0 and year%100!=0) or (year%400==0):\n",
    "    print('闰年')\n",
    "else:\n",
    "    print('不是闰年')"
   ]
  },
  {
   "cell_type": "code",
   "execution_count": 64,
   "metadata": {},
   "outputs": [
    {
     "name": "stdout",
     "output_type": "stream",
     "text": [
      ">>123\n",
      "不是水仙花\n"
     ]
    }
   ],
   "source": [
    "number=eval(input('>>'))\n",
    "bai=number//100\n",
    "shi=number//10%10\n",
    "ge=number%10\n",
    "if bai**3+shi**3+ge**3==number:\n",
    "    print('水仙花')\n",
    "else:\n",
    "    print('不是水仙花')"
   ]
  },
  {
   "cell_type": "markdown",
   "metadata": {},
   "source": [
    "## 实例研究：彩票\n",
    "![](../Photo/41.png)"
   ]
  },
  {
   "cell_type": "code",
   "execution_count": 3,
   "metadata": {},
   "outputs": [],
   "source": [
    "import random"
   ]
  },
  {
   "cell_type": "code",
   "execution_count": 8,
   "metadata": {},
   "outputs": [
    {
     "name": "stdout",
     "output_type": "stream",
     "text": [
      "69\n",
      ">>60\n",
      "1000\n"
     ]
    }
   ],
   "source": [
    "number=random.randint(10,99)\n",
    "print(number)\n",
    "N=eval(input('>>'))\n",
    "number_shi=number//10\n",
    "number_ge=number%10\n",
    "N_shi=N//10\n",
    "N_ge=N%10\n",
    "if number==N:\n",
    "    print('10000')\n",
    "elif number_shi+number_ge==N_shi+N_ge:\n",
    "    print('3000')\n",
    "elif number_shi==N_shi or number_shi==N_ge or number_ge==N_ge or number_ge==N_shi:\n",
    "    print('1000')"
   ]
  },
  {
   "cell_type": "code",
   "execution_count": 5,
   "metadata": {},
   "outputs": [
    {
     "name": "stdout",
     "output_type": "stream",
     "text": [
      "13\n",
      ">>10\n",
      "1000\n"
     ]
    }
   ],
   "source": [
    "number=random.randint(10,99)\n",
    "print(number)\n",
    "N=input('>>')\n",
    "number_shi=number//10\n",
    "number_ge=number%10\n",
    "if N[0]=='0':\n",
    "    N_shi=0\n",
    "else:\n",
    "    N_shi=int(N)//10\n",
    "    N_ge=int(N)%10\n",
    "if number==N:\n",
    "    print('10000')\n",
    "elif number_shi+number_ge==N_shi+N_ge:\n",
    "    print('3000')\n",
    "elif (number_shi==N_shi or number_shi==N_ge) or (number_ge==N_ge or number_ge==N_shi):\n",
    "    print('1000')"
   ]
  },
  {
   "cell_type": "code",
   "execution_count": 58,
   "metadata": {},
   "outputs": [],
   "source": [
    "import random\n",
    "a=random.randint(1,9)\n",
    "b=random.randint(0,9)"
   ]
  },
  {
   "cell_type": "code",
   "execution_count": 67,
   "metadata": {},
   "outputs": [
    {
     "name": "stdout",
     "output_type": "stream",
     "text": [
      "请输入十位数1\n",
      "请输入个位数2\n",
      "没中奖\n"
     ]
    }
   ],
   "source": [
    "a1=eval(input('请输入十位数'))\n",
    "b1=eval(input('请输入个位数'))\n",
    "if a==a1 and b==b1:\n",
    "    print('奖金10000美元')\n",
    "elif a+b==a1+1:\n",
    "    print('奖金3000美金')\n",
    "elif a==b1 or b==a1 or a==a1 or b==b1:\n",
    "    print('奖金1000美元')\n",
    "else:\n",
    "    print('没中奖')"
   ]
  },
  {
   "cell_type": "markdown",
   "metadata": {},
   "source": [
    "# Homework\n",
    "- 1\n",
    "![](../Photo/42.png)"
   ]
  },
  {
   "cell_type": "code",
   "execution_count": 17,
   "metadata": {},
   "outputs": [
    {
     "name": "stdout",
     "output_type": "stream",
     "text": [
      "请输入一个数：1.0\n",
      "请输入一个数：3\n",
      "请输入一个数：1\n",
      "-0.3819660112501051 -2.618033988749895\n"
     ]
    }
   ],
   "source": [
    "import math\n",
    "a=eval(input('请输入一个数：'))\n",
    "b=eval(input('请输入一个数：'))\n",
    "c=eval(input('请输入一个数：'))\n",
    "root=b*b-4*a*c\n",
    "r1=(-b+math.sqrt(root))/2*a\n",
    "r2=(-b-math.sqrt(root))/2*a\n",
    "if root>0:\n",
    "    print(r1,r2)\n",
    "if root==0:\n",
    "    print(r1)\n",
    "if root<0:\n",
    "    print('The equation has no real roots')"
   ]
  },
  {
   "cell_type": "markdown",
   "metadata": {},
   "source": [
    "- 2\n",
    "![](../Photo/43.png)"
   ]
  },
  {
   "cell_type": "code",
   "execution_count": 21,
   "metadata": {},
   "outputs": [],
   "source": [
    "import random\n",
    "num_1=random.randint(0,100)\n",
    "num_2=random.randint(0,100)"
   ]
  },
  {
   "cell_type": "code",
   "execution_count": 22,
   "metadata": {},
   "outputs": [
    {
     "name": "stdout",
     "output_type": "stream",
     "text": [
      "141\n",
      "请输入两个整数的和：120\n",
      "答案错误\n"
     ]
    }
   ],
   "source": [
    "num=num_1+num_2\n",
    "print(num)\n",
    "num_3=eval(input('请输入两个整数的和：'))\n",
    "if num_3==num:\n",
    "    print('答案正确')\n",
    "else:\n",
    "    print('答案错误')"
   ]
  },
  {
   "cell_type": "markdown",
   "metadata": {},
   "source": [
    "- 3\n",
    "![](../Photo/44.png)"
   ]
  },
  {
   "cell_type": "code",
   "execution_count": 27,
   "metadata": {},
   "outputs": [
    {
     "name": "stdout",
     "output_type": "stream",
     "text": [
      "Enter today ’s day:1\n",
      "Enter the number of days elapsed since today:3\n",
      "Friday\n"
     ]
    }
   ],
   "source": [
    "day=eval(input('Enter today ’s day:'))\n",
    "fday=eval(input('Enter the number of days elapsed since today:'))\n",
    "a=fday%7+day\n",
    "if a==0:\n",
    "    print('monday')\n",
    "elif a==1:\n",
    "    print('Tuesday')\n",
    "elif a==2:\n",
    "    print('Thursday')\n",
    "elif a==3:\n",
    "    print('wednesday')\n",
    "elif a==4:\n",
    "    print('Friday')\n",
    "elif a==5:\n",
    "    print('saturday')\n",
    "else:\n",
    "    print('sunday')"
   ]
  },
  {
   "cell_type": "markdown",
   "metadata": {},
   "source": [
    "- 4\n",
    "![](../Photo/45.png)"
   ]
  },
  {
   "cell_type": "code",
   "execution_count": 30,
   "metadata": {},
   "outputs": [
    {
     "name": "stdout",
     "output_type": "stream",
     "text": [
      "请输入第一个整数：7\n",
      "请输入第二个整数：9\n",
      "请输入第三个整数：1\n",
      "9 7 1\n"
     ]
    }
   ],
   "source": [
    "number_1=eval(input('请输入第一个整数：'))\n",
    "number_2=eval(input('请输入第二个整数：'))\n",
    "number_3=eval(input('请输入第三个整数：'))\n",
    "if number_1<=number_2:\n",
    "    if number_2<=number_3:\n",
    "        print(number_3,number_2,number_1)\n",
    "    if number_2>number_3:\n",
    "        if number_1<number_3:\n",
    "            print(number_2,number_3,number_1)\n",
    "        else:\n",
    "            print(number_2,number_1,number_3)\n",
    "elif number_1>number_2:\n",
    "    if number_1<=number_3:\n",
    "        print(number_3,number_1,number_2)\n",
    "    elif number_1>number_3:\n",
    "        if number_2<=number_3:\n",
    "            print(number_1,number_3,number_2)\n",
    "        else:\n",
    "            print(number_1,number_2,number_3)"
   ]
  },
  {
   "cell_type": "markdown",
   "metadata": {},
   "source": [
    "- 5\n",
    "![](../Photo/46.png)"
   ]
  },
  {
   "cell_type": "code",
   "execution_count": 36,
   "metadata": {},
   "outputs": [
    {
     "name": "stdout",
     "output_type": "stream",
     "text": [
      "请输入第一袋大米的重量和价钱：50,24.59\n",
      "请输入第二袋大米的重量和价钱：25,11.99\n",
      "package 2 has the better price\n"
     ]
    }
   ],
   "source": [
    "weight_1,pay_1=eval(input('请输入第一袋大米的重量和价钱：'))\n",
    "weight_2,pay_2=eval(input('请输入第二袋大米的重量和价钱：'))\n",
    "if weight_1>weight_2 and pay_1>pay_2:\n",
    "    print('package 2 has the better price')\n",
    "elif weight_1<weight_2 and pay_1>pay_2:\n",
    "    print('package 2 has the better price')\n",
    "else:\n",
    "    print('package 1 has the better price')"
   ]
  },
  {
   "cell_type": "markdown",
   "metadata": {},
   "source": [
    "- 6\n",
    "![](../Photo/47.png)"
   ]
  },
  {
   "cell_type": "code",
   "execution_count": 38,
   "metadata": {},
   "outputs": [
    {
     "name": "stdout",
     "output_type": "stream",
     "text": [
      "请输入年份:2000\n",
      "请输入月份:2\n",
      "29\n"
     ]
    }
   ],
   "source": [
    "year=eval(input('请输入年份:'))\n",
    "month=eval(input('请输入月份:'))\n",
    "if (year%4==0 and year%100!=0) or year%400==0:\n",
    "    if (month==2):\n",
    "        print(29)\n",
    "    if (month==1 or month==3 or month==5 or month==7 or month==8 or month==10 or month==12):\n",
    "        print(31)\n",
    "    if (month==4 or month==6 or month==9 or month==11):\n",
    "        print(30)\n",
    "if (year%4!=0 and year%100==0) or year%400!=0:\n",
    "    if (month==2):\n",
    "        print(28)\n",
    "    if (month==1 or month==3 or month==5 or month==7 or month==8 or month==10 or month==12):\n",
    "        print(31)\n",
    "    if (month==4 or month==6 or month==9 or month==11):\n",
    "        print(30)"
   ]
  },
  {
   "cell_type": "markdown",
   "metadata": {},
   "source": [
    "- 7\n",
    "![](../Photo/48.png)"
   ]
  },
  {
   "cell_type": "code",
   "execution_count": 39,
   "metadata": {},
   "outputs": [
    {
     "name": "stdout",
     "output_type": "stream",
     "text": [
      "0\n",
      "输入一个猜测值:[0/1]0\n",
      "正确\n"
     ]
    }
   ],
   "source": [
    "import random\n",
    "a=random.randint(0,1)\n",
    "print(a)\n",
    "cai=eval(input('输入一个猜测值:[0/1]'))\n",
    "if cai==a:\n",
    "    print('正确')\n",
    "else:\n",
    "    print('错误')\n"
   ]
  },
  {
   "cell_type": "markdown",
   "metadata": {},
   "source": [
    "- 8\n",
    "![](../Photo/49.png)"
   ]
  },
  {
   "cell_type": "code",
   "execution_count": 40,
   "metadata": {},
   "outputs": [
    {
     "name": "stdout",
     "output_type": "stream",
     "text": [
      "2\n",
      ">>2\n",
      "平局\n"
     ]
    }
   ],
   "source": [
    "import random\n",
    "a=random.randint(0,2)\n",
    "print(a)\n",
    "b=eval(input('>>'))\n",
    "if a==b:\n",
    "    print('平局')\n",
    "elif a>b:\n",
    "    print('你输了')\n",
    "else:\n",
    "    print('你赢了')"
   ]
  },
  {
   "cell_type": "markdown",
   "metadata": {},
   "source": [
    "- 9\n",
    "![](../Photo/50.png)"
   ]
  },
  {
   "cell_type": "markdown",
   "metadata": {},
   "source": [
    "- 10\n",
    "![](../Photo/51.png)"
   ]
  },
  {
   "cell_type": "code",
   "execution_count": 41,
   "metadata": {},
   "outputs": [
    {
     "name": "stdout",
     "output_type": "stream",
     "text": [
      "请你输入一张牌:6\n",
      "输入的花色:2\n",
      "方块6\n"
     ]
    }
   ],
   "source": [
    "num1=eval(input('请你输入一张牌:'))\n",
    "num2=eval(input('输入的花色:'))\n",
    "if num1==1:\n",
    "    if num2==1:\n",
    "        print('红A')\n",
    "    if num2==2:\n",
    "        print('方块A')\n",
    "    if num2==3:\n",
    "        print('黑桃A')\n",
    "    if num2==4:\n",
    "        print('梅花A')\n",
    "if num1==2:\n",
    "    if num2==1:\n",
    "        print('红2')\n",
    "    if num2==2:\n",
    "        print('方块2')\n",
    "    if num2==3:\n",
    "        print('黑桃2')\n",
    "    if num2==4:\n",
    "        print('梅花2')\n",
    "if num1==3:\n",
    "    if num2==1:\n",
    "        print('红3')\n",
    "    if num2==2:\n",
    "        print('方块3')\n",
    "    if num2==3:\n",
    "        print('黑桃3')\n",
    "    if num2==4:\n",
    "        print('梅花3')\n",
    "if num1==4:\n",
    "    if num2==1:\n",
    "        print('红4')\n",
    "    if num2==2:\n",
    "        print('方块4')\n",
    "    if num2==3:\n",
    "        print('黑桃4')\n",
    "    if num2==4:\n",
    "        print('梅花4')\n",
    "if num1==5:\n",
    "    if num2==1:\n",
    "        print('红5')\n",
    "    if num2==2:\n",
    "        print('方块5')\n",
    "    if num2==3:\n",
    "        print('黑桃5')\n",
    "    if num2==4:\n",
    "        print('梅花5')\n",
    "if num1==6:\n",
    "    if num2==1:\n",
    "        print('红6')\n",
    "    if num2==2:\n",
    "        print('方块6')\n",
    "    if num2==3:\n",
    "        print('黑桃6')\n",
    "    if num2==4:\n",
    "        print('梅花6')\n",
    "if num1==7:\n",
    "    if num2==1:\n",
    "        print('红7')\n",
    "    if num2==2:\n",
    "        print('方块7')\n",
    "    if num==3:\n",
    "        print('黑桃7')\n",
    "    if num==4:\n",
    "        print('梅花7')\n",
    "if num1==8:\n",
    "    if num2==1:\n",
    "        print('红8')\n",
    "    if num2==2:\n",
    "        print('方块8')\n",
    "    if num==3:\n",
    "        print('黑桃8')\n",
    "    if num==4:\n",
    "        print('梅花8')\n",
    "if num1==9:\n",
    "    if num2==1:\n",
    "        print('红9')\n",
    "    if num2==2:\n",
    "        print('方块9')\n",
    "    if num==3:\n",
    "        print('黑桃9')\n",
    "    if num==4:\n",
    "        print('梅花9')\n",
    "if num1==10:\n",
    "    if num2==1:\n",
    "        print('红10')\n",
    "    if num2==2:\n",
    "        print('方块10')\n",
    "    if num2==3:\n",
    "        print('黑桃10')\n",
    "    if num4==4:\n",
    "        print('梅花10')\n",
    "if num1==1:\n",
    "    if num2==1:\n",
    "        print('红A')\n",
    "    if num2==2:\n",
    "        print('方块A')\n",
    "    if num2==3:\n",
    "        print('黑桃A')\n",
    "    if num2==4:\n",
    "        print('梅花A')\n",
    "if num1==1:\n",
    "    if num2==1:\n",
    "        print('红A')\n",
    "    if num2==2:\n",
    "        print('方块A')\n",
    "    if num2==3:\n",
    "        print('黑桃A')\n",
    "    if num2==4:\n",
    "        print('梅花A')\n",
    "if num1==11:\n",
    "    if num2==1:\n",
    "        print('红J')\n",
    "    if num2==2:\n",
    "        print('方块J')\n",
    "    if num2==3:\n",
    "        print('黑桃J')\n",
    "    if num2==4:\n",
    "        print('梅花J')\n",
    "if num1==12:\n",
    "    if num2==1:\n",
    "        print('红Q')\n",
    "    if num2==2:\n",
    "        print('方块Q')\n",
    "    if num2==3:\n",
    "        print('黑桃Q')\n",
    "    if num2==4:\n",
    "        print('梅花Q')\n",
    "if num1==13:\n",
    "    if num2==1:\n",
    "        print('红K')\n",
    "    if num2==2:\n",
    "        print('方块K')\n",
    "    if num2==3:\n",
    "        print('黑桃K')\n",
    "    if num2==4:\n",
    "        print('梅花K')"
   ]
  },
  {
   "cell_type": "markdown",
   "metadata": {},
   "source": [
    "- 11\n",
    "![](../Photo/52.png)"
   ]
  },
  {
   "cell_type": "code",
   "execution_count": 42,
   "metadata": {},
   "outputs": [
    {
     "name": "stdout",
     "output_type": "stream",
     "text": [
      "请输入一个三位数:456\n",
      "是回文\n"
     ]
    }
   ],
   "source": [
    "a=input('请输入一个三位数:')\n",
    "i=len(a)\n",
    "flag=True\n",
    "for i in range(1,1//2):\n",
    "    if [i-1]!=a[-1]:\n",
    "        flag=False\n",
    "        break\n",
    "if flag:\n",
    "    print('是回文')\n",
    "else:\n",
    "    print('不是回文')"
   ]
  },
  {
   "cell_type": "markdown",
   "metadata": {},
   "source": [
    "- 12\n",
    "![](../Photo/53.png)"
   ]
  },
  {
   "cell_type": "code",
   "execution_count": null,
   "metadata": {},
   "outputs": [],
   "source": []
  }
 ],
 "metadata": {
  "kernelspec": {
   "display_name": "Python 3",
   "language": "python",
   "name": "python3"
  },
  "language_info": {
   "codemirror_mode": {
    "name": "ipython",
    "version": 3
   },
   "file_extension": ".py",
   "mimetype": "text/x-python",
   "name": "python",
   "nbconvert_exporter": "python",
   "pygments_lexer": "ipython3",
   "version": "3.7.3"
  }
 },
 "nbformat": 4,
 "nbformat_minor": 2
}
